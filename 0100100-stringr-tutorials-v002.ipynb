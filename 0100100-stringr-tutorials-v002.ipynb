{
  "cells": [
    {
      "cell_type": "code",
      "metadata": {},
      "source": [
        "# Load in some data for use in some of the lessons\n",
        "library(RSQLite)\n",
        "library(tidyverse)\n",
        "\n",
        "sub <- \"MachineLearning\" \n",
        "db <- src_sqlite('../input/reddit-comments-may-2015/reddit-comments-may-2015/database.sqlite', create = F)\n",
        "\n",
        "# Load the desired subset of data from the database\n",
        "db_subset <- db %>% \n",
        "             tbl('May2015') %>% \n",
        "             filter(subreddit == sub)\n",
        "          \n",
        "data <- data.frame(db_subset)[, c(\"author\",\"score\",\"body\")]"
      ],
      "id": "4c737b76",
      "execution_count": null,
      "outputs": []
    },
    {
      "cell_type": "markdown",
      "metadata": {},
      "source": [
        "<br><br><br><br><br><br><br><br><br>\n",
        "\n",
        "# stringr: Basic String Manipulation\n"
      ],
      "id": "48b786e9"
    },
    {
      "cell_type": "code",
      "metadata": {},
      "source": [
        "library(tidyverse)\n",
        "\n",
        "chr_data <- c(\"Data\", \"Daft\", \"YouTube\", \"channel\",\n",
        "             \"learn\", \"and\", \"have\", \"FUN!\")"
      ],
      "id": "11198ac6",
      "execution_count": null,
      "outputs": []
    },
    {
      "cell_type": "code",
      "metadata": {},
      "source": [
        "# Check the length of a string\n",
        "str_length(\"awefon8g-gn951nksjdg\")\n",
        "str_length(chr_data)"
      ],
      "id": "137a9a85",
      "execution_count": null,
      "outputs": []
    },
    {
      "cell_type": "code",
      "metadata": {},
      "source": [
        "# Convert string letters to uppercase\n",
        "str_to_upper(chr_data)"
      ],
      "id": "06528717",
      "execution_count": null,
      "outputs": []
    },
    {
      "cell_type": "code",
      "metadata": {},
      "source": [
        "# Convert string letters to lowercase\n",
        "str_to_lower(chr_data)"
      ],
      "id": "617be0b2",
      "execution_count": null,
      "outputs": []
    },
    {
      "cell_type": "code",
      "metadata": {},
      "source": [
        "# Convert string to title (first letter uppercase)\n",
        "str_to_title(chr_data)"
      ],
      "id": "1913b36a",
      "execution_count": null,
      "outputs": []
    },
    {
      "cell_type": "code",
      "metadata": {},
      "source": [
        "# Convert string to sentence (only first letter of first word uppercase)\n",
        "str_to_sentence(\"make me into a SENTENCE!\")"
      ],
      "id": "946a90ca",
      "execution_count": null,
      "outputs": []
    },
    {
      "cell_type": "code",
      "metadata": {},
      "source": [
        "# Trim whitespace\n",
        "str_trim(\"  Trim Me!   \")"
      ],
      "id": "df103ada",
      "execution_count": null,
      "outputs": []
    },
    {
      "cell_type": "code",
      "metadata": {},
      "source": [
        "# Pad strings with whitespace\n",
        "str_pad(\"Pad Me!\", width = 15, side=\"both\")"
      ],
      "id": "506e6c3f",
      "execution_count": null,
      "outputs": []
    },
    {
      "cell_type": "code",
      "metadata": {},
      "source": [
        "# Truncate strings to a given length\n",
        "str_trunc(\"If you have a long string, you might want to truncate it!\", \n",
        "          width = 50)"
      ],
      "id": "ade1dc60",
      "execution_count": null,
      "outputs": []
    },
    {
      "cell_type": "markdown",
      "metadata": {},
      "source": [
        "<br><br><br><br><br><br><br><br>\n",
        "\n",
        "# stringr: Split and Join Strings\n"
      ],
      "id": "02d274f9"
    },
    {
      "cell_type": "code",
      "metadata": {},
      "source": [
        "library(tidyverse)\n",
        "\n",
        "# Split strings\n",
        "str_split(\"Split Me!\", pattern = \" \")"
      ],
      "id": "073b7488",
      "execution_count": null,
      "outputs": []
    },
    {
      "cell_type": "code",
      "metadata": {},
      "source": [
        "# Join strings (equivalent to base R paste())\n",
        "str_c(\"Join\", \"Me!\", sep=\"_\")\n",
        "\n",
        "# Join strings (equivalent to base R paste())\n",
        "str_c(c(\"Join\", \"vectors\"), c(\"Me!\", \"too!\"), sep=\"_\")"
      ],
      "id": "1a674ac1",
      "execution_count": null,
      "outputs": []
    },
    {
      "cell_type": "code",
      "metadata": {},
      "source": [
        "# Collapse a vector of strings into a single string\n",
        "str_c(c(\"Turn\", \"me\", \"into\", \"one\", \"string!\"), collapse= \" \")"
      ],
      "id": "c556f172",
      "execution_count": null,
      "outputs": []
    },
    {
      "cell_type": "code",
      "metadata": {},
      "source": [
        "# Convert NA values in character vector to string \"NA\"\n",
        "str_replace_na(c(\"Make\", NA, \"strings!\"))"
      ],
      "id": "6f85184b",
      "execution_count": null,
      "outputs": []
    },
    {
      "cell_type": "markdown",
      "metadata": {},
      "source": [
        "<br><br><br><br><br><br><br><br>\n",
        "\n",
        "# stringr: Sorting Strings\n"
      ],
      "id": "d7288fa5"
    },
    {
      "cell_type": "code",
      "metadata": {},
      "source": [
        "library(tidyverse)\n",
        "\n",
        "sort_data <- c(\"sort\", \"me\", \"please!\")\n",
        "\n",
        "# Get vector of indicies that would sort a string alphabetically\n",
        "str_order(sort_data)"
      ],
      "id": "eeca39c2",
      "execution_count": null,
      "outputs": []
    },
    {
      "cell_type": "code",
      "metadata": {},
      "source": [
        "# Use discovered ordering to extract data in sorted order\n",
        "sort_data[str_order(sort_data)]"
      ],
      "id": "3fc819f5",
      "execution_count": null,
      "outputs": []
    },
    {
      "cell_type": "code",
      "metadata": {},
      "source": [
        "# Directly extract sorted strings\n",
        "str_sort(sort_data)"
      ],
      "id": "056999ff",
      "execution_count": null,
      "outputs": []
    },
    {
      "cell_type": "code",
      "metadata": {},
      "source": [
        "# Extract in reverse sorted order\n",
        "str_sort(sort_data, decreasing = TRUE)"
      ],
      "id": "25c88e5b",
      "execution_count": null,
      "outputs": []
    },
    {
      "cell_type": "markdown",
      "metadata": {},
      "source": [
        "<br><br><br><br><br><br><br><br>\n",
        "\n",
        "# stringr: String Interpolation\n"
      ],
      "id": "82fa67fc"
    },
    {
      "cell_type": "code",
      "metadata": {},
      "source": [
        "library(tidyverse)\n",
        "\n",
        "first <- c(\"Luke\", \"Han\", \"Jean-Luc\")\n",
        "last <- c(\"Skywalker\", \"Solo\", \"Picard\")\n",
        "\n",
        "# Interpolate (insert variable values) into strings with str_glue()\n",
        "str_glue(\"My name is {first}. {first} {last}.\")"
      ],
      "id": "f6b3fce0",
      "execution_count": null,
      "outputs": []
    },
    {
      "cell_type": "code",
      "metadata": {},
      "source": [
        "minimum_age <- 18\n",
        "over_minimum <- c(5, 17, 33)\n",
        "\n",
        "# Interpolate the result of an execution into a string\n",
        "str_glue(\"{first} {last} is {minimum_age + over_minimum} years old.\")"
      ],
      "id": "aacbd78f",
      "execution_count": null,
      "outputs": []
    },
    {
      "cell_type": "code",
      "metadata": {},
      "source": [
        "num <- c(1:5)\n",
        "\n",
        "# Interpolate the result of function calls\n",
        "str_glue(\"The square root of {num} is {round(sqrt(num), 3)}.\")"
      ],
      "id": "3e462489",
      "execution_count": null,
      "outputs": []
    },
    {
      "cell_type": "code",
      "metadata": {},
      "source": [
        "fuel_efficiency <- 30\n",
        "\n",
        "# Interpolate strings using data from a data frame\n",
        "mtcars %>% rownames_to_column(\"Model\") %>%\n",
        "         filter(mpg > fuel_efficiency) %>%\n",
        "         str_glue_data(\"The {Model} gets {mpg} mpg.\")"
      ],
      "id": "d2bafdb7",
      "execution_count": null,
      "outputs": []
    },
    {
      "cell_type": "markdown",
      "metadata": {},
      "source": [
        "<br><br><br><br><br><br><br><br>\n",
        "\n",
        "# stringr: String Matching\n"
      ],
      "id": "7e7d5e0f"
    },
    {
      "cell_type": "code",
      "metadata": {},
      "source": [
        "library(tidyverse)\n",
        "\n",
        "head(data,8)"
      ],
      "id": "55553374",
      "execution_count": null,
      "outputs": []
    },
    {
      "cell_type": "code",
      "metadata": {},
      "source": [
        "# Detecting the presence of a pattern in strings\n",
        "str_detect(data$body[1:100], pattern=\"deep\")"
      ],
      "id": "deeced11",
      "execution_count": null,
      "outputs": []
    },
    {
      "cell_type": "code",
      "metadata": {},
      "source": [
        "# Get the indicies of matched strings\n",
        "str_inds <- str_which(data$body[1:100], pattern=\"deep\")\n",
        "str_inds"
      ],
      "id": "c95e0f1d",
      "execution_count": null,
      "outputs": []
    },
    {
      "cell_type": "code",
      "metadata": {},
      "source": [
        "# Extract matched strings using detected indicies\n",
        "data$body[str_inds]"
      ],
      "id": "22536b84",
      "execution_count": null,
      "outputs": []
    },
    {
      "cell_type": "code",
      "metadata": {},
      "source": [
        "# Count the number of matches\n",
        "str_count(data$body[1:100], \"deep\")"
      ],
      "id": "45c5dbdb",
      "execution_count": null,
      "outputs": []
    },
    {
      "cell_type": "code",
      "metadata": {},
      "source": [
        "# Get the position of matches\n",
        "str_locate_all(data$body[1], \"deep\")"
      ],
      "id": "2bf42349",
      "execution_count": null,
      "outputs": []
    },
    {
      "cell_type": "code",
      "metadata": {},
      "source": [
        "# Get a list of the first match found in each string as a vector\n",
        "str_extract(data$body[1:3], \"deep|the|and\")"
      ],
      "id": "ee34a31f",
      "execution_count": null,
      "outputs": []
    },
    {
      "cell_type": "code",
      "metadata": {},
      "source": [
        "# Get a list of the first match found in each string as matrix\n",
        "str_match(data$body[1:3], \"deep|the|and\")"
      ],
      "id": "34c7f03d",
      "execution_count": null,
      "outputs": []
    },
    {
      "cell_type": "code",
      "metadata": {},
      "source": [
        "# Get a list of the all matches found in each string as list of matricies\n",
        "str_match_all(data$body[1:3], \"deep|the|and\")"
      ],
      "id": "47fd9a3d",
      "execution_count": null,
      "outputs": []
    },
    {
      "cell_type": "markdown",
      "metadata": {},
      "source": [
        "<br><br><br><br><br><br><br><br>\n",
        "\n",
        "# stringr: Subset and Replace Strings\n"
      ],
      "id": "b5e24ffb"
    },
    {
      "cell_type": "code",
      "metadata": {},
      "source": [
        "library(tidyverse)\n",
        "\n",
        "head(data,8)"
      ],
      "id": "9ce05793",
      "execution_count": null,
      "outputs": []
    },
    {
      "cell_type": "code",
      "metadata": {},
      "source": [
        "# Get a string subset based on character position\n",
        "str_sub(data$body[1], start=1, end=100)"
      ],
      "id": "5f3eee1a",
      "execution_count": null,
      "outputs": []
    },
    {
      "cell_type": "code",
      "metadata": {},
      "source": [
        "# Get a string subset based on words\n",
        "word(data$body[1], start=1, end=10)"
      ],
      "id": "3e7d299a",
      "execution_count": null,
      "outputs": []
    },
    {
      "cell_type": "code",
      "metadata": {},
      "source": [
        "# Get the strings that contain a certain pattern\n",
        "str_subset(data$body[1:100], pattern=\"deep\")"
      ],
      "id": "68d98f7d",
      "execution_count": null,
      "outputs": []
    },
    {
      "cell_type": "code",
      "metadata": {},
      "source": [
        "# Replace a substring with a new string by substring position\n",
        "str_sub(data$body[1], start=1, end=100) <- str_to_upper(str_sub(data$body[1], \n",
        "                                                                start=1, \n",
        "                                                                end=100))\n",
        "str_sub(data$body[1], start=1, end=100)"
      ],
      "id": "aef48b79",
      "execution_count": null,
      "outputs": []
    },
    {
      "cell_type": "code",
      "metadata": {},
      "source": [
        "# Replace first occurrence of a substring with a new string by matching\n",
        "str_replace(data$body[1], pattern=\"deep|DEEP\", replacement=\"multi-layer\")"
      ],
      "id": "5ee08c4a",
      "execution_count": null,
      "outputs": []
    },
    {
      "cell_type": "code",
      "metadata": {},
      "source": [
        "# Replace all occurrences of a substring with a new string by matching\n",
        "str_replace_all(data$body[1], pattern=\"deep|DEEP\", replacement=\"multi-layer\")"
      ],
      "id": "2254c59e",
      "execution_count": null,
      "outputs": []
    },
    {
      "cell_type": "markdown",
      "metadata": {},
      "source": [
        "<br><br><br><br><br><br><br><br>\n",
        "\n",
        "# stringr: Viewing Strings\n"
      ],
      "id": "5f2b558a"
    },
    {
      "cell_type": "code",
      "metadata": {},
      "source": [
        "library(tidyverse)"
      ],
      "id": "db0a6e0f",
      "execution_count": null,
      "outputs": []
    },
    {
      "cell_type": "code",
      "metadata": {},
      "source": [
        "# Basic printing\n",
        "print(data$body[1:10])"
      ],
      "id": "21897c04",
      "execution_count": null,
      "outputs": []
    },
    {
      "cell_type": "code",
      "metadata": {},
      "source": [
        "deep_learning_posts <- data$body[str_which(data$body, \"deep learning\")]\n",
        "\n",
        "# View strings in HTML format with the first occurence of a pattern highlighted\n",
        "str_view(deep_learning_posts, pattern=\"deep\")"
      ],
      "id": "20071e73",
      "execution_count": null,
      "outputs": []
    },
    {
      "cell_type": "code",
      "metadata": {},
      "source": [
        "# View strings in HTML format with the first all occurences highlighted\n",
        "str_view_all(deep_learning_posts, pattern=\"deep\")"
      ],
      "id": "4cf55a06",
      "execution_count": null,
      "outputs": []
    },
    {
      "cell_type": "code",
      "metadata": {},
      "source": [
        "# Format strings into paragraphs of a given width with str_wrap()\n",
        "wrapped <- str_wrap(data$body[str_which(data$body, \"deep learning\")][1], \n",
        "                    width = 50)\n",
        "wrapped "
      ],
      "id": "b430e9e3",
      "execution_count": null,
      "outputs": []
    },
    {
      "cell_type": "code",
      "metadata": {},
      "source": [
        "# Print wrapped string with output obeying newlines\n",
        "wrapped %>% cat()"
      ],
      "id": "f1df3310",
      "execution_count": null,
      "outputs": []
    },
    {
      "cell_type": "code",
      "metadata": {},
      "source": [
        "# Display wrapped paragraph as HTML, inserting paragraph breaks\n",
        "str_wrap(data$body[str_which(data$body, \"deep learning\")][1], width = 50) %>%\n",
        "str_replace_all(\"\\n\", \"<br>\") %>%\n",
        "str_view_all(pattern = \"deep\")"
      ],
      "id": "9ab2ea0e",
      "execution_count": null,
      "outputs": []
    },
    {
      "cell_type": "markdown",
      "metadata": {},
      "source": [
        "<br><br>\n",
        "\n",
        "\n",
        "# The End\n"
      ],
      "id": "45856788"
    }
  ],
  "metadata": {
    "kernelspec": {
      "display_name": "R",
      "language": "R",
      "name": "ir"
    }
  },
  "nbformat": 4,
  "nbformat_minor": 5
}